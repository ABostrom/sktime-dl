{
 "cells": [
  {
   "cell_type": "markdown",
   "metadata": {},
   "source": [
    "# Univariate time series classification with sktime-dl\n",
    "[Github](https://github.com/sktime/sktime-dl)\n",
    "\n",
    "In this notebook, we use sktime-dl to perform for univariate time series classification by deep learning."
   ]
  },
  {
   "cell_type": "code",
   "execution_count": 1,
   "metadata": {},
   "outputs": [
    {
     "name": "stderr",
     "output_type": "stream",
     "text": [
      "/home/lucy/anaconda3/envs/sktime_env/lib/python3.7/site-packages/sklearn/utils/deprecation.py:144: FutureWarning: The sklearn.ensemble.base module is  deprecated in version 0.22 and will be removed in version 0.24. The corresponding classes / functions should instead be imported from sklearn.ensemble. Anything that cannot be imported from sklearn.ensemble is now part of the private API.\n",
      "  warnings.warn(message, FutureWarning)\n",
      "/home/lucy/anaconda3/envs/sktime_env/lib/python3.7/site-packages/sklearn/utils/deprecation.py:144: FutureWarning: The sklearn.ensemble.forest module is  deprecated in version 0.22 and will be removed in version 0.24. The corresponding classes / functions should instead be imported from sklearn.ensemble. Anything that cannot be imported from sklearn.ensemble is now part of the private API.\n",
      "  warnings.warn(message, FutureWarning)\n",
      "/home/lucy/anaconda3/envs/sktime_env/lib/python3.7/site-packages/sklearn/utils/deprecation.py:144: FutureWarning: The sklearn.preprocessing.label module is  deprecated in version 0.22 and will be removed in version 0.24. The corresponding classes / functions should instead be imported from sklearn.preprocessing. Anything that cannot be imported from sklearn.preprocessing is now part of the private API.\n",
      "  warnings.warn(message, FutureWarning)\n"
     ]
    }
   ],
   "source": [
    "import numpy as np\n",
    "import matplotlib.pyplot as plt\n",
    "import seaborn as sns\n",
    "\n",
    "from sklearn.model_selection import GridSearchCV\n",
    "\n",
    "from sktime.datasets import load_gunpoint, load_italy_power_demand\n",
    "from sktime.pipeline import Pipeline\n",
    "from sktime.transformers.compose import Tabulariser, RowwiseTransformer\n",
    "\n",
    "from sktime_dl.deeplearning import CNNClassifier\n",
    "\n",
    "sns.set_style('whitegrid') "
   ]
  },
  {
   "cell_type": "markdown",
   "metadata": {},
   "source": [
    "# Load a dataset"
   ]
  },
  {
   "cell_type": "code",
   "execution_count": 2,
   "metadata": {},
   "outputs": [
    {
     "data": {
      "text/html": [
       "<div>\n",
       "<style scoped>\n",
       "    .dataframe tbody tr th:only-of-type {\n",
       "        vertical-align: middle;\n",
       "    }\n",
       "\n",
       "    .dataframe tbody tr th {\n",
       "        vertical-align: top;\n",
       "    }\n",
       "\n",
       "    .dataframe thead th {\n",
       "        text-align: right;\n",
       "    }\n",
       "</style>\n",
       "<table border=\"1\" class=\"dataframe\">\n",
       "  <thead>\n",
       "    <tr style=\"text-align: right;\">\n",
       "      <th></th>\n",
       "      <th>dim_0</th>\n",
       "    </tr>\n",
       "  </thead>\n",
       "  <tbody>\n",
       "    <tr>\n",
       "      <th>0</th>\n",
       "      <td>0    -0.710520\n",
       "1    -1.183300\n",
       "2    -1.372400\n",
       "3...</td>\n",
       "    </tr>\n",
       "    <tr>\n",
       "      <th>1</th>\n",
       "      <td>0    -0.993010\n",
       "1    -1.426800\n",
       "2    -1.579900\n",
       "3...</td>\n",
       "    </tr>\n",
       "    <tr>\n",
       "      <th>2</th>\n",
       "      <td>0     1.319100\n",
       "1     0.569770\n",
       "2     0.195130\n",
       "3...</td>\n",
       "    </tr>\n",
       "    <tr>\n",
       "      <th>3</th>\n",
       "      <td>0    -0.812440\n",
       "1    -1.157600\n",
       "2    -1.416400\n",
       "3...</td>\n",
       "    </tr>\n",
       "    <tr>\n",
       "      <th>4</th>\n",
       "      <td>0    -0.972840\n",
       "1    -1.390500\n",
       "2    -1.536700\n",
       "3...</td>\n",
       "    </tr>\n",
       "  </tbody>\n",
       "</table>\n",
       "</div>"
      ],
      "text/plain": [
       "                                               dim_0\n",
       "0  0    -0.710520\n",
       "1    -1.183300\n",
       "2    -1.372400\n",
       "3...\n",
       "1  0    -0.993010\n",
       "1    -1.426800\n",
       "2    -1.579900\n",
       "3...\n",
       "2  0     1.319100\n",
       "1     0.569770\n",
       "2     0.195130\n",
       "3...\n",
       "3  0    -0.812440\n",
       "1    -1.157600\n",
       "2    -1.416400\n",
       "3...\n",
       "4  0    -0.972840\n",
       "1    -1.390500\n",
       "2    -1.536700\n",
       "3..."
      ]
     },
     "execution_count": 2,
     "metadata": {},
     "output_type": "execute_result"
    }
   ],
   "source": [
    "X_train, y_train = load_italy_power_demand(split='TRAIN', return_X_y=True)\n",
    "X_test, y_test = load_italy_power_demand(split='TEST', return_X_y=True)\n",
    "X_train.head()"
   ]
  },
  {
   "cell_type": "code",
   "execution_count": 3,
   "metadata": {},
   "outputs": [],
   "source": [
    "def plot_data_samples(X, y, sample_numbers):\n",
    "    ''' \n",
    "    Plot the time series data relating to the input list of sample numbers.\n",
    "\n",
    "    sample_numbers: list of integers\n",
    "        E.g. [1, 7, 22, 42]\n",
    "    '''\n",
    "    \n",
    "    Xt = Tabulariser().transform(X)\n",
    "    unique_labels = np.unique(y).astype(int)\n",
    "    num_classes = len(unique_labels)\n",
    "    if num_classes<=4:\n",
    "        class_colors = ['red', 'blue', 'green' , 'orange']\n",
    "    else:\n",
    "        class_colors = sns.color_palette(n_colors=num_classes)\n",
    "\n",
    "    fig, ax = plt.subplots()\n",
    "    for i in sample_numbers:\n",
    "        print('sample', i, 'class', str(y[i]))\n",
    "        color_num = y[i].astype(int) - unique_labels.min()\n",
    "        Xt.iloc[i].plot(label=str(y[i]), color=class_colors[color_num])\n",
    "\n",
    "    print('')\n",
    "    plt.ylim([-3.5, 3.5])\n",
    "    if num_classes<=2:\n",
    "        title = class_colors[0]+' : class '+str(unique_labels[0])\n",
    "        title = title + '\\n'+class_colors[1]+' : class '+str(unique_labels[1])\n",
    "        plt.title(title)\n",
    "    ax.set_ylabel('Data value')\n",
    "    ax.set_xlabel('Data point number')"
   ]
  },
  {
   "cell_type": "markdown",
   "metadata": {},
   "source": [
    "## Plot some data samples"
   ]
  },
  {
   "cell_type": "code",
   "execution_count": 4,
   "metadata": {},
   "outputs": [
    {
     "name": "stdout",
     "output_type": "stream",
     "text": [
      "sample 0 class 1\n",
      "sample 1 class 1\n",
      "sample 2 class 2\n",
      "sample 3 class 2\n",
      "\n"
     ]
    },
    {
     "data": {
      "image/png": "[encoded data removed]",
      "text/plain": [
       "<Figure size 432x288 with 1 Axes>"
      ]
     },
     "metadata": {},
     "output_type": "display_data"
    }
   ],
   "source": [
    "plot_data_samples(X_train, y_train, [0, 1, 2, 3])"
   ]
  },
  {
   "cell_type": "markdown",
   "metadata": {},
   "source": [
    "# Train a single deep neural network classifier\n",
    "Here we choose to use the CNN (convolutional neural network) classifier. Other classifiers provided by sktime-dl include MLP, ResNet and InceptionTime."
   ]
  },
  {
   "cell_type": "code",
   "execution_count": 5,
   "metadata": {},
   "outputs": [
    {
     "data": {
      "text/plain": [
       "0.8794946550048591"
      ]
     },
     "execution_count": 5,
     "metadata": {},
     "output_type": "execute_result"
    }
   ],
   "source": [
    "network = CNNClassifier(nb_epochs=200, verbose=False)\n",
    "network.fit(X_train, y_train)\n",
    "network.score(X_test, y_test)"
   ]
  },
  {
   "cell_type": "markdown",
   "metadata": {},
   "source": [
    "## Save the model to file"
   ]
  },
  {
   "cell_type": "code",
   "execution_count": 6,
   "metadata": {},
   "outputs": [],
   "source": [
    "network.model.save(\"temp_model.h5\")"
   ]
  },
  {
   "cell_type": "markdown",
   "metadata": {},
   "source": [
    "# Grid Search\n",
    "sktime-dl is compatible with scikit-learn and can use sklearn's GridSearchCV.\n",
    "\n",
    "Here we search over two parameters, number of epochs and CNN kernel size."
   ]
  },
  {
   "cell_type": "code",
   "execution_count": 7,
   "metadata": {},
   "outputs": [
    {
     "name": "stdout",
     "output_type": "stream",
     "text": [
      "Best cross-validation accuracy: 0.69\n",
      "Test set score: 0.77\n",
      "Best parameters: {'kernel_size': 9, 'nb_epochs': 100}\n"
     ]
    }
   ],
   "source": [
    "param_grid = {'nb_epochs': [50, 100],\n",
    "              'kernel_size': [5, 7, 9] }\n",
    "grid = GridSearchCV(network, param_grid=param_grid, cv=5)   \n",
    "grid.fit(X_train, y_train)\n",
    "    \n",
    "print(\"Best cross-validation accuracy: {:.2f}\".format(grid.best_score_))\n",
    "print(\"Test set score: {:.2f}\".format(grid.score(X_test, y_test)))\n",
    "print(\"Best parameters: {}\".format(grid.best_params_))"
   ]
  }
 ],
 "metadata": {
  "kernelspec": {
   "display_name": "Python 3",
   "language": "python",
   "name": "python3"
  },
  "language_info": {
   "codemirror_mode": {
    "name": "ipython",
    "version": 3
   },
   "file_extension": ".py",
   "mimetype": "text/x-python",
   "name": "python",
   "nbconvert_exporter": "python",
   "pygments_lexer": "ipython3",
   "version": "3.7.5"
  }
 },
 "nbformat": 4,
 "nbformat_minor": 4
}
