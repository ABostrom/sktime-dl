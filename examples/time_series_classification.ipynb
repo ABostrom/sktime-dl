{
 "cells": [
  {
   "cell_type": "code",
   "execution_count": null,
   "metadata": {},
   "outputs": [],
   "source": [
    "import warnings\n",
    "import numpy as np\n",
    "import matplotlib.pyplot as plt\n",
    "import seaborn as sns\n",
    "\n",
    "from sklearn.preprocessing import StandardScaler\n",
    "\n",
    "from sktime.datasets import load_gunpoint, load_italy_power_demand\n",
    "from sklearn.model_selection import GridSearchCV\n",
    "from sktime.pipeline import Pipeline\n",
    "from sktime.transformers.compose import Tabulariser, RowwiseTransformer\n",
    "\n",
    "from sktime_dl.deeplearning import CNNClassifier\n",
    "\n",
    "sns.set_style('whitegrid') "
   ]
  },
  {
   "cell_type": "markdown",
   "metadata": {},
   "source": [
    "# Load a dataset"
   ]
  },
  {
   "cell_type": "code",
   "execution_count": null,
   "metadata": {},
   "outputs": [],
   "source": [
    "X_train, y_train = load_italy_power_demand(split='TRAIN', return_X_y=True)\n",
    "X_test, y_test = load_italy_power_demand(split='TEST', return_X_y=True)\n",
    "X_train.head()"
   ]
  },
  {
   "cell_type": "code",
   "execution_count": null,
   "metadata": {},
   "outputs": [],
   "source": [
    "def plot_data_samples(X, y, sample_numbers):\n",
    "    ''' \n",
    "    Plot the time series data relating to the input list of sample numbers.\n",
    "\n",
    "    sample_numbers: list of integers\n",
    "        E.g. [1, 7, 22, 42]\n",
    "    '''\n",
    "    \n",
    "    Xt = Tabulariser().transform(X)\n",
    "    unique_labels = np.unique(y).astype(int)\n",
    "    num_classes = len(unique_labels)\n",
    "    if num_classes<=4:\n",
    "        class_colors = ['red', 'blue', 'green' , 'orange']\n",
    "    else:\n",
    "        class_colors = sns.color_palette(n_colors=num_classes)\n",
    "\n",
    "    fig, ax = plt.subplots()\n",
    "    for i in sample_numbers:\n",
    "        print('sample', i, 'class', str(y[i]))\n",
    "        color_num = y[i].astype(int) - unique_labels.min()\n",
    "        Xt.iloc[i].plot(label=str(y[i]), color=class_colors[color_num])\n",
    "\n",
    "    print('')\n",
    "    plt.ylim([-3.5, 3.5])\n",
    "    if num_classes<=2:\n",
    "        title = class_colors[0]+' : class '+str(unique_labels[0])\n",
    "        title = title + '\\n'+class_colors[1]+' : class '+str(unique_labels[1])\n",
    "        plt.title(title)\n",
    "    ax.set_ylabel('Data value')\n",
    "    ax.set_xlabel('Data point number')\n",
    "\n",
    "\n",
    "plot_data_samples(X_train, y_train, [0, 1, 2, 3])"
   ]
  },
  {
   "cell_type": "markdown",
   "metadata": {},
   "source": [
    "# Train a single deep neural network classifier"
   ]
  },
  {
   "cell_type": "code",
   "execution_count": null,
   "metadata": {},
   "outputs": [],
   "source": [
    "network = CNNClassifier(nb_epochs=200, verbose=False)\n",
    "network.fit(X_train, y_train)\n",
    "network.score(X_test, y_test)"
   ]
  },
  {
   "cell_type": "markdown",
   "metadata": {},
   "source": [
    "## Save the model to file"
   ]
  },
  {
   "cell_type": "code",
   "execution_count": null,
   "metadata": {},
   "outputs": [],
   "source": [
    "network.model.save(\"temp_model.h5\")"
   ]
  },
  {
   "cell_type": "markdown",
   "metadata": {},
   "source": [
    "# Pipeline"
   ]
  },
  {
   "cell_type": "code",
   "execution_count": null,
   "metadata": {},
   "outputs": [],
   "source": [
    "network = CNNClassifier(nb_epochs=200, verbose=False)\n",
    "steps = [\n",
    "            ('scaling', RowwiseTransformer(StandardScaler())),\n",
    "            ('clf', network) \n",
    "        ]\n",
    "\n",
    "\n",
    "with warnings.catch_warnings():\n",
    "    warnings.filterwarnings('ignore', category=FutureWarning)\n",
    "    pipeline = Pipeline(steps)\n",
    "    \n",
    "hist = pipeline.fit(X_train, y_train)    \n",
    "pipeline.score(X_test, y_test)"
   ]
  },
  {
   "cell_type": "markdown",
   "metadata": {},
   "source": [
    "# Grid Search\n",
    "The syntax to define a parameter grid for a pipeline is to specify for each parameter the step name, followed by \\__ (a double underscore), followed by the parameter name. E.g.\n",
    "To search over the nb_epochs parameter of the classifier (named 'clf') we therefore have to use \"clf__nb_epochs as the key in the parameter grid dictionary."
   ]
  },
  {
   "cell_type": "code",
   "execution_count": null,
   "metadata": {},
   "outputs": [],
   "source": [
    "param_grid = {'clf__nb_epochs': [10, 100, 200],\n",
    "              'clf__batch_size': [16, 32]}\n",
    "grid = GridSearchCV(pipeline, param_grid=param_grid, cv=5)\n",
    "\n",
    "with warnings.catch_warnings():\n",
    "    warnings.filterwarnings('ignore', category=FutureWarning)\n",
    "    grid.fit(X_train, y_train)\n",
    "    \n",
    "print(\"Best cross-validation accuracy: {:.2f}\".format(grid.best_score_))\n",
    "print(\"Test set score: {:.2f}\".format(grid.score(X_test, y_test)))\n",
    "print(\"Best parameters: {}\".format(grid.best_params_))"
   ]
  }
 ],
 "metadata": {
  "kernelspec": {
   "display_name": "Python 3",
   "language": "python",
   "name": "python3"
  },
  "language_info": {
   "codemirror_mode": {
    "name": "ipython",
    "version": 3
   },
   "file_extension": ".py",
   "mimetype": "text/x-python",
   "name": "python",
   "nbconvert_exporter": "python",
   "pygments_lexer": "ipython3",
   "version": "3.6.9"
  }
 },
 "nbformat": 4,
 "nbformat_minor": 4
}
