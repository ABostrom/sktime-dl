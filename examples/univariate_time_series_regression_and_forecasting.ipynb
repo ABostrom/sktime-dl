{
 "cells": [
  {
   "cell_type": "markdown",
   "metadata": {},
   "source": [
    "# Regression and forecasting with sktime-dl\n",
    "[Github](https://github.com/sktime/sktime-dl)\n",
    "\n",
    "In this notebook, we use sktime-dl to perform regression and forecasting on univariate time series data by deep learning.\n",
    "\n",
    "See [sktime](https://github.com/alan-turing-institute/sktime/blob/master/examples/forecasting.ipynb) for the same forecasting performed using time series algorithms."
   ]
  },
  {
   "cell_type": "code",
   "execution_count": null,
   "metadata": {},
   "outputs": [],
   "source": [
    "import warnings\n",
    "import numpy as np\n",
    "import matplotlib.pyplot as plt\n",
    "import seaborn as sns\n",
    "import pandas as pd\n",
    "\n",
    "from sklearn.metrics import mean_squared_error\n",
    "from sklearn.model_selection import GridSearchCV\n",
    "\n",
    "from sktime.datasets import load_shampoo_sales, load_italy_power_demand\n",
    "from sktime.highlevel.tasks import ForecastingTask\n",
    "from sktime.highlevel.strategies import Forecasting2TSRReductionStrategy\n",
    "from sktime.pipeline import Pipeline\n",
    "from sktime.transformers.compose import Tabulariser\n",
    "\n",
    "from sktime_dl.deeplearning import CNNRegressor, MLPRegressor\n",
    "\n",
    "sns.set_style('whitegrid') "
   ]
  },
  {
   "cell_type": "markdown",
   "metadata": {},
   "source": [
    "# Regression\n",
    "First, we create a dataset of regression values against time series data samples."
   ]
  },
  {
   "cell_type": "code",
   "execution_count": null,
   "metadata": {},
   "outputs": [],
   "source": [
    "X_train, y_train = load_italy_power_demand(split='TRAIN', return_X_y=True)\n",
    "X_test, y_test = load_italy_power_demand(split='TEST', return_X_y=True)\n",
    "\n",
    "# Create some regression values\n",
    "y_train = np.zeros(len(y_train))\n",
    "for i in range(len(X_train)):\n",
    "    y_train[i] = X_train.iloc[i].iloc[0].iloc[1]\n",
    "    y_train[i] = y_train[i] + X_train.iloc[i].iloc[0].iloc[10]\n",
    "y_test = np.zeros(len(y_test))\n",
    "for i in range(len(X_test)):\n",
    "    y_test[i] = X_test.iloc[i].iloc[0].iloc[1]\n",
    "    y_test[i] = y_test[i] + X_test.iloc[i].iloc[0].iloc[10]"
   ]
  },
  {
   "cell_type": "markdown",
   "metadata": {},
   "source": [
    "## Plot the dataset's regression values"
   ]
  },
  {
   "cell_type": "code",
   "execution_count": null,
   "metadata": {},
   "outputs": [],
   "source": [
    "fig, ax = plt.subplots(1, figsize=plt.figaspect(.4))\n",
    "ax_train = np.arange(len(y_train))\n",
    "ax_test = np.arange(len(y_train), len(y_train)+len(y_test))\n",
    "plt.scatter(ax_train, y_train, marker='.',label=\"train\")\n",
    "plt.scatter(ax_test, y_test, marker='1', label=\"test\")\n",
    "plt.title('Regression values')\n",
    "ax.set(ylabel='y value')\n",
    "ax.set_xlabel('Sample number')\n",
    "plt.legend();"
   ]
  },
  {
   "cell_type": "markdown",
   "metadata": {},
   "source": [
    "## Train and test a deep learning model\n",
    "Here, we choose use the CNN (convolutional neural network) model. Other regressors provided by sktime-dl include MLP, ResNet and InceptionTime."
   ]
  },
  {
   "cell_type": "code",
   "execution_count": null,
   "metadata": {},
   "outputs": [],
   "source": [
    "estimator = CNNRegressor(nb_epochs=400, kernel_size=7, verbose=False)\n",
    "estimator.fit(X_train, y_train)\n",
    "y_predict = estimator.predict(X_test)\n",
    "estimator.score(X_test, y_test)"
   ]
  },
  {
   "cell_type": "markdown",
   "metadata": {},
   "source": [
    "## Plot the result"
   ]
  },
  {
   "cell_type": "code",
   "execution_count": null,
   "metadata": {},
   "outputs": [],
   "source": [
    "fig, ax = plt.subplots(1, figsize=plt.figaspect(.4))\n",
    "ax_train = np.arange(len(y_train))\n",
    "ax_test = np.arange(len(y_train), len(y_train)+len(y_test))\n",
    "plt.scatter(ax_train, y_train, marker='.',label=\"train\")\n",
    "plt.scatter(ax_test, y_test, marker='1', label=\"test\")\n",
    "plt.scatter(ax_test, y_predict, marker='2', label=\"predict\")\n",
    "plt.title('Regression values')\n",
    "ax.set(ylabel='y value')\n",
    "ax.set_xlabel('Sample number')\n",
    "plt.legend();"
   ]
  },
  {
   "cell_type": "markdown",
   "metadata": {},
   "source": [
    "# Forecasting\n",
    "## Load a dataset\n",
    "Load shampoo sales dataset from sktime containing monthly sale counts of shampoo over three years."
   ]
  },
  {
   "cell_type": "code",
   "execution_count": null,
   "metadata": {},
   "outputs": [],
   "source": [
    "shampoo = load_shampoo_sales(return_y_as_dataframe=True)\n",
    "shampoo_series = shampoo.iloc[0, 0]\n",
    "shampoo_series.head()"
   ]
  },
  {
   "cell_type": "code",
   "execution_count": null,
   "metadata": {},
   "outputs": [],
   "source": [
    "fig, ax = plt.subplots(1, figsize=plt.figaspect(.4))\n",
    "shampoo_series.plot(ax=ax)\n",
    "plt.title('Shampoo sales')\n",
    "ax.set(ylabel=shampoo_series.name)\n",
    "ax.set_xlabel('Month');"
   ]
  },
  {
   "cell_type": "markdown",
   "metadata": {},
   "source": [
    "## Split the data into training and test data\n",
    "We will train a neural network to forecast shampoo sales over the next 6 months, using the first 30 months of data."
   ]
  },
  {
   "cell_type": "code",
   "execution_count": null,
   "metadata": {},
   "outputs": [],
   "source": [
    "train = pd.DataFrame(pd.Series([shampoo.iloc[0, 0].iloc[:30]]), columns=shampoo.columns)\n",
    "test = pd.DataFrame(pd.Series([shampoo.iloc[0, 0].iloc[30:]]), \n",
    "columns=shampoo.columns)"
   ]
  },
  {
   "cell_type": "code",
   "execution_count": null,
   "metadata": {},
   "outputs": [],
   "source": [
    "fig, ax = plt.subplots(1, figsize=plt.figaspect(.4))\n",
    "train.iloc[0, 0].plot(ax=ax, label='train')\n",
    "test.iloc[0, 0].plot(ax=ax, label='test')\n",
    "plt.title('Shampoo sales')\n",
    "ax.set(ylabel=shampoo_series.name)\n",
    "ax.set_xlabel('Month')\n",
    "plt.legend();"
   ]
  },
  {
   "cell_type": "markdown",
   "metadata": {},
   "source": [
    "## Train and test a deep learning model\n",
    "\n",
    "A reduction strategy allows us to solve forecasting tasks using a deep learning time-series regressor and a rolling window approach."
   ]
  },
  {
   "cell_type": "code",
   "execution_count": null,
   "metadata": {},
   "outputs": [],
   "source": [
    "window_length=10\n",
    "fh = [1, 2, 3, 4, 5, 6] # forecasting horizon\n",
    "\n",
    "regressor = MLPRegressor(nb_epochs=500, verbose=False)\n",
    "\n",
    "steps = [\n",
    "    ('tabularise', Tabulariser()),\n",
    "    ('rgs', regressor)\n",
    "]\n",
    "\n",
    "with warnings.catch_warnings():\n",
    "    warnings.filterwarnings(action='ignore', category=FutureWarning) \n",
    "    estimator = Pipeline(steps)\n",
    "    task = ForecastingTask(target='ShampooSales', fh=fh, metadata=train)\n",
    "    strategy = Forecasting2TSRReductionStrategy(estimator=estimator, window_length=window_length)\n",
    "    strategy.fit(task, train)\n",
    "predict = strategy.predict()"
   ]
  },
  {
   "cell_type": "code",
   "execution_count": null,
   "metadata": {},
   "outputs": [],
   "source": [
    "# Evaluate the forecast (root mean squared error)\n",
    "np.sqrt(mean_squared_error(test.iloc[0,0], predict))"
   ]
  },
  {
   "cell_type": "code",
   "execution_count": null,
   "metadata": {},
   "outputs": [],
   "source": [
    "fig, ax = plt.subplots(1, figsize=plt.figaspect(.4))\n",
    "train.iloc[0, 0].plot(ax=ax, label='train')\n",
    "test.iloc[0, 0].plot(ax=ax, label='test')\n",
    "predict.plot(ax=ax, label='predict')\n",
    "plt.title('Shampoo sales')\n",
    "ax.set(ylabel=shampoo_series.name)\n",
    "ax.set_xlabel('Month')\n",
    "plt.legend();"
   ]
  }
 ],
 "metadata": {
  "file_extension": ".py",
  "kernelspec": {
   "display_name": "Python 3",
   "language": "python",
   "name": "python3"
  },
  "language_info": {
   "codemirror_mode": {
    "name": "ipython",
    "version": 3
   },
   "file_extension": ".py",
   "mimetype": "text/x-python",
   "name": "python",
   "nbconvert_exporter": "python",
   "pygments_lexer": "ipython3",
   "version": "3.6.9"
  },
  "mimetype": "text/x-python",
  "name": "python",
  "npconvert_exporter": "python",
  "pygments_lexer": "ipython3",
  "version": 3
 },
 "nbformat": 4,
 "nbformat_minor": 2
}
